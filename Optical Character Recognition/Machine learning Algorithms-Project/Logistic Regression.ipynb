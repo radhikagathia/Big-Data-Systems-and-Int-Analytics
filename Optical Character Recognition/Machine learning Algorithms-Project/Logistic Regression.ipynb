{
 "cells": [
  {
   "cell_type": "markdown",
   "metadata": {},
   "source": [
    "# Using Machine Learning Algorithms - Logistic Regression for Image Classification"
   ]
  },
  {
   "cell_type": "markdown",
   "metadata": {},
   "source": [
    "## What is machine learning?"
   ]
  },
  {
   "cell_type": "markdown",
   "metadata": {},
   "source": [
    "Machine learning is a of computer science that evolved from the study of pattern recognition and computational learning theory in artificial intelligence. Machine learning explores the study and construction of algorithms that can learn from and make predictions on data. Such algorithms operate by building a model from an example training set of input observations in order to make data-driven predictions or decisions expressed as outputs, rather than following strictly static program instructions."
   ]
  },
  {
   "cell_type": "markdown",
   "metadata": {},
   "source": [
    "Broadly, there are 3 types of Machine Learning Algorithms:\n",
    "1. <b> Supervised Learning - </b> This algorithm consist of a target / outcome variable (or dependent variable) which is to be predicted from a given set of predictors (independent variables). Using these set of variables, we generate a function that map inputs to desired outputs. The training process continues until the model achieves a desired level of accuracy on the training data.\n",
    "\n",
    "2. <b> Unsupervised Learning - </b> In this algorithm, we do not have any target or outcome variable to predict / estimate.  It is used for clustering population in different groups, which is widely used for segmenting customers in different groups for specific intervention.\n",
    "\n",
    "3. <b> Reinforcement Learning: </b> Using this algorithm, the machine is trained to make specific decisions. It works this way: the machine is exposed to an environment where it trains itself continually using trial and error. This machine learns from past experience and tries to capture the best possible knowledge to make accurate business decisions."
   ]
  },
  {
   "cell_type": "markdown",
   "metadata": {},
   "source": [
    "Some of the commonly used machine learning algorithms are Linear Regression, Logistic Regression, Decision Tree, SVM, Naive Bayes, kNN, K-Means, Random Forest, etc."
   ]
  },
  {
   "cell_type": "markdown",
   "metadata": {},
   "source": [
    "### Basic Requirements to run this notebook\n",
    "This Python notebook shows you how to use machine learning to build a classification model that maps images of single digit numbers to their corresponding numeric representations.\n",
    "\n",
    "This notebook is adapted from various machine learning tutorials that describes the important machine learning concepts and includes code snippets here."
   ]
  },
  {
   "cell_type": "markdown",
   "metadata": {},
   "source": [
    "## What is Logistic Regression?"
   ]
  },
  {
   "cell_type": "markdown",
   "metadata": {},
   "source": [
    "# Logistic Regression"
   ]
  },
  {
   "attachments": {
    "logit.PNG": {
     "image/png": "[encoded data removed]"
    },
    "logitcurve.png": {
     "image/png": "[encoded data removed]"
    }
   },
   "cell_type": "markdown",
   "metadata": {},
   "source": [
    "<b> Introduction to Logistic Regression </b>\n",
    "\n",
    "The logistic regression is a predictive analysis, like all regression analyses.  Logistic regression is used to describe data and to explain the relationship between one dependent binary variable and one or more nominal, ordinal, interval or ratio-level independent variables.\n",
    "Mathematically, logistic regression estimates a multiple linear regression function defined as:\n",
    "![logit.PNG](attachment:logit.PNG)\n",
    "The logit transformation is referred to as the link function in logistic regression—although the dependent variable in logistic regression is Bernoulli, the logit is on an unrestricted scale.\n",
    "\n",
    "The logit of success is then fitted to the predictors. The predicted value of the logit is converted back into predicted odds via the inverse of the natural logarithm, namely the exponential function. Thus, although the observed dependent variable in binary logistic regression is a zero-or-one variable, the logistic regression estimates the odds, as a continuous variable, that the dependent variable is a success (a case). In some applications the odds are all that is needed. In others, a specific yes-or-no prediction is needed for whether the dependent variable is or is not a case; this categorical prediction can be based on the computed odds of a success, with predicted odds above some chosen cutoff value being translated into a prediction of a success.\n",
    "\n",
    "![logitcurve.png](attachment:logitcurve.png)"
   ]
  },
  {
   "cell_type": "markdown",
   "metadata": {},
   "source": [
    "### Installing Python Libraries\n",
    "Import libraries like sklearn and numpy that you will be using to run this notebook."
   ]
  },
  {
   "cell_type": "code",
   "execution_count": 1,
   "metadata": {
    "collapsed": true
   },
   "outputs": [],
   "source": [
    "from __future__ import print_function\n",
    "import matplotlib.pyplot as plt\n",
    "import numpy as np\n",
    "import os\n",
    "import sys\n",
    "import tarfile\n",
    "from IPython.display import display, Image\n",
    "from scipy import ndimage\n",
    "from six.moves.urllib.request import urlretrieve\n",
    "from six.moves import cPickle as pickle\n",
    "\n",
    "from sklearn.linear_model import LogisticRegressionCV\n",
    "from sklearn.metrics import accuracy_score\n",
    "# Config the matplotlib backend as plotting inline in IPython\n",
    "%matplotlib inline"
   ]
  },
  {
   "cell_type": "markdown",
   "metadata": {},
   "source": [
    "## Loading MNIST data set of handwritten digits\n",
    "MNIST is a database of handwritten numbers.You can also refer to the <a href=\"http://yann.lecun.com/exdb/mnist/\">link</a> to view and read about MNIST datatset. Since MNIST uses real-world data, it is an ideal database for training neural networks and machine learning tools that use pattern recognition.\n",
    "Run the following cell to get the MNIST data set of images of handwritten numbers:"
   ]
  },
  {
   "cell_type": "code",
   "execution_count": 2,
   "metadata": {},
   "outputs": [
    {
     "name": "stdout",
     "output_type": "stream",
     "text": [
      "C:/Users/Radhika/Desktop/NEU_Sem2/Big Data/Project_big_data/mnist_png/training\\2\n"
     ]
    },
    {
     "data": {
      "image/png": "[encoded data removed]",
      "text/plain": [
       "<IPython.core.display.Image object>"
      ]
     },
     "metadata": {},
     "output_type": "display_data"
    }
   ],
   "source": [
    "TestData='./mnist_png/testing'\n",
    "TrainData='./mnist_png/training'\n",
    "Numbers=['0','1','2','3','4','5','6','7','8','9']\n",
    "Testing_Path=os.path.join(os.getcwd(),TestData)\n",
    "Training_Path=os.path.join(os.getcwd(),TrainData)\n",
    "Path=os.path.join(Training_Path,'2')\n",
    "print(Path)\n",
    "for i in os.listdir(Path):\n",
    "    display(Image(filename=os.path.join(Path,i)))\n",
    "    break"
   ]
  },
  {
   "cell_type": "markdown",
   "metadata": {},
   "source": [
    "## Pickling the data\n",
    "\n",
    "<b> Pickling </b> is a way to convert a python object into a character stream. It “serialises” the object first before writing it to file. The idea is that this character stream contains all the information necessary to reconstruct the object in another python script.\n"
   ]
  },
  {
   "cell_type": "code",
   "execution_count": 3,
   "metadata": {
    "collapsed": true
   },
   "outputs": [],
   "source": [
    "PickledFiles=[]\n",
    "for i in Numbers:\n",
    "    PickledFiles.append(i+'.pickle')"
   ]
  },
  {
   "cell_type": "code",
   "execution_count": 4,
   "metadata": {},
   "outputs": [
    {
     "name": "stdout",
     "output_type": "stream",
     "text": [
      "0 is Already Pickled \n",
      "1 is Already Pickled \n",
      "2 is Already Pickled \n",
      "3 is Already Pickled \n",
      "4 is Already Pickled \n",
      "5 is Already Pickled \n",
      "6 is Already Pickled \n",
      "7 is Already Pickled \n",
      "8 is Already Pickled \n",
      "9 is Already Pickled \n"
     ]
    }
   ],
   "source": [
    "img_size = 28  # Pixel width and height.\n",
    "pixeldepth = 255.0  # Number of levels per pixel.\n",
    "CorruptedImg=np.zeros((img_size, img_size),dtype=np.float32)\n",
    "def load_letter(folder, Max_images):  \n",
    "  imgfiles = os.listdir(folder)\n",
    "  data = np.ndarray(shape=(Max_images, img_size, img_size),\n",
    "                         dtype=np.float32)\n",
    "  print(folder)\n",
    "  imgNo = 0\n",
    "  for img in imgfiles:\n",
    "    imgfile = os.path.join(folder, img)\n",
    "    try:\n",
    "      imgdata = (ndimage.imread(imgfile).astype(float) - \n",
    "                    pixeldepth / 2) / pixeldepth\n",
    "      if np.array_equal(imgdata,CorruptedImg):\n",
    "            print('Corrupted')\n",
    "            continue\n",
    "      #print('All fine')      \n",
    "      if imgdata.shape != (img_size, img_size):\n",
    "        raise Exception('Unexpected image shape: %s' % str(imgdata.shape))\n",
    "      data[imgNo, :, :] = imgdata\n",
    "      imgNo = imgNo + 1\n",
    "      if imgNo==Max_images:\n",
    "        return data\n",
    "    except IOError as e:\n",
    "      print('Could not read:', imgfile, ':', e, '- it\\'s ok, skipping.')\n",
    "\n",
    "for i in os.listdir(Training_Path):\n",
    "     set_filename=i+'.pickle'\n",
    "     if set_filename in os.listdir(os.getcwd()):\n",
    "        print(i+' is Already Pickled ')\n",
    "     else:\n",
    "        \n",
    "         data1=loadletter(os.path.join(Training_Path,i), 5000)\n",
    "         print(data1.shape)   \n",
    "         #print(os.path.join(Testing_Path,i))\n",
    "         data2=loadletter(os.path.join(Testing_Path,i),890)\n",
    "         print(data2.shape)\n",
    "         data = np.ndarray(shape=(data1.shape[0]+data2.shape[0], img_size, img_size),\n",
    "                         dtype=np.float32)\n",
    "         for i in range(data1.shape[0]):\n",
    "                data[i,:,:]=data1[i,:,:]\n",
    "         for i in range(data2.shape[0]):\n",
    "                data[data1.shape[0]+i,:,:]=data1[i,:,:]\n",
    "         print(data.shape)       \n",
    "         try:\n",
    "            with open(set_filename, 'wb') as f:\n",
    "              pickle.dump(data, f, pickle.HIGHEST_PROTOCOL)\n",
    "         except Exception as e:\n",
    "            print('Unable to save data to', set_filename, ':', e)"
   ]
  },
  {
   "cell_type": "code",
   "execution_count": 5,
   "metadata": {},
   "outputs": [
    {
     "name": "stdout",
     "output_type": "stream",
     "text": [
      "(5890, 28, 28)\n",
      "(5890, 28, 28)\n",
      "(5890, 28, 28)\n",
      "(5890, 28, 28)\n",
      "(5890, 28, 28)\n",
      "(5890, 28, 28)\n",
      "(5890, 28, 28)\n",
      "(5890, 28, 28)\n",
      "(5890, 28, 28)\n",
      "(5890, 28, 28)\n",
      "58900\n"
     ]
    }
   ],
   "source": [
    "sum1=0\n",
    "for pickle_file in PickledFiles:\n",
    "    f=open(pickle_file,'rb')\n",
    "    data3=pickle.load(f)\n",
    "    sum1=sum1+data3.shape[0]\n",
    "    print(data3.shape)\n",
    "print(sum1)    "
   ]
  },
  {
   "cell_type": "code",
   "execution_count": 6,
   "metadata": {},
   "outputs": [
    {
     "name": "stdout",
     "output_type": "stream",
     "text": [
      "(5890, 28, 28)\n"
     ]
    },
    {
     "data": {
      "image/png": "[encoded data removed]",
      "text/plain": [
       "<matplotlib.figure.Figure at 0x27553ea1860>"
      ]
     },
     "metadata": {},
     "output_type": "display_data"
    }
   ],
   "source": [
    "pickle_file = PickledFiles[2]  \n",
    "with open(pickle_file, 'rb') as f:\n",
    "    letterset = pickle.load(f)\n",
    "    print(letterset.shape)\n",
    "    sample_idx = np.random.randint(len(letterset))  \n",
    "    sampleimg = letterset[sample_idx, :, :]  \n",
    "    plt.figure()\n",
    "    plt.imshow(sampleimg)  "
   ]
  },
  {
   "cell_type": "code",
   "execution_count": 7,
   "metadata": {
    "collapsed": true
   },
   "outputs": [],
   "source": [
    "for i in range(letterset.shape[0]):\n",
    "    if np.array_equal(letterset[i,:,:],np.zeros((28,28),dtype=np.float32)):\n",
    "        print(i,'True')"
   ]
  },
  {
   "cell_type": "code",
   "execution_count": 8,
   "metadata": {},
   "outputs": [
    {
     "name": "stdout",
     "output_type": "stream",
     "text": [
      "0 : 0.pickle\n",
      "1 : 1.pickle\n",
      "2 : 2.pickle\n",
      "3 : 3.pickle\n",
      "4 : 4.pickle\n",
      "5 : 5.pickle\n",
      "6 : 6.pickle\n",
      "7 : 7.pickle\n",
      "8 : 8.pickle\n",
      "9 : 9.pickle\n",
      "0 : 0.pickle\n",
      "1 : 1.pickle\n",
      "2 : 2.pickle\n",
      "3 : 3.pickle\n",
      "4 : 4.pickle\n",
      "5 : 5.pickle\n",
      "6 : 6.pickle\n",
      "7 : 7.pickle\n",
      "8 : 8.pickle\n",
      "9 : 9.pickle\n",
      "Training: (50000, 28, 28) (50000,)\n",
      "Validation: (8000, 28, 28) (8000,)\n",
      "Testing: (900, 28, 28) (900,)\n"
     ]
    }
   ],
   "source": [
    "def make_arrays(nb_rows, img_size):\n",
    "  if nb_rows:\n",
    "    data = np.ndarray((nb_rows, img_size, img_size), dtype=np.float32)\n",
    "    labels = np.ndarray((nb_rows,), dtype=np.int32)\n",
    "  else:\n",
    "    data, labels = None, None\n",
    "  return data, labels\n",
    "\n",
    "def merge_datasets(pickle_files, train_size, valid_size=0):\n",
    "  classesNo = len(pickle_files)\n",
    "  valid_dataset, valid_labels = make_arrays(valid_size, img_size)\n",
    "  trainingdataset, train_labels = make_arrays(train_size, img_size)\n",
    "  vsize_per_class = valid_size // classesNo\n",
    "  tsize_per_class = train_size // classesNo\n",
    "    \n",
    "  start_v, start_t = 0, 0\n",
    "  end_v, end_t = vsize_per_class, tsize_per_class\n",
    "  end_l = vsize_per_class+tsize_per_class\n",
    "  for label, pickle_file in enumerate(pickle_files):\n",
    "    print(label,\":\",pickle_file)    \n",
    "    try:\n",
    "      with open(pickle_file, 'rb') as f:\n",
    "        letterset = pickle.load(f)\n",
    "        # let's shuffle the letters to have random validation and training set\n",
    "        np.random.shuffle(letterset)\n",
    "        if valid_dataset is not None:\n",
    "          valid_letter = letterset[:vsize_per_class, :, :]\n",
    "          valid_dataset[start_v:end_v, :, :] = valid_letter\n",
    "          valid_labels[start_v:end_v] = label\n",
    "          start_v += vsize_per_class\n",
    "          end_v += vsize_per_class\n",
    "                    \n",
    "        train_letter = letterset[vsize_per_class:end_l, :, :]\n",
    "        trainingdataset[start_t:end_t, :, :] = train_letter\n",
    "        train_labels[start_t:end_t] = label\n",
    "        start_t += tsize_per_class\n",
    "        end_t += tsize_per_class\n",
    "    except Exception as e:\n",
    "      print('Unable to process data from', pickle_file, ':', e)\n",
    "      raise\n",
    "    \n",
    "  return valid_dataset, valid_labels, trainingdataset, train_labels\n",
    "            \n",
    "            \n",
    "train_size = 50000\n",
    "valid_size = 8000\n",
    "test_size = 900\n",
    "\n",
    "valid_dataset, valid_labels, trainingdataset, train_labels = merge_datasets(\n",
    "  PickledFiles, train_size, valid_size)\n",
    "_, _, testingdataset, test_labels = merge_datasets(PickledFiles, test_size)\n",
    "\n",
    "print('Training:', trainingdataset.shape, train_labels.shape)\n",
    "print('Validation:', valid_dataset.shape, valid_labels.shape)\n",
    "print('Testing:', testingdataset.shape, test_labels.shape)"
   ]
  },
  {
   "cell_type": "markdown",
   "metadata": {},
   "source": [
    "## Randomizing the labels\n",
    "\n",
    "Generate a random order of elements with np.random.permutation and simply index into the arrays data and classes with those:"
   ]
  },
  {
   "cell_type": "code",
   "execution_count": 9,
   "metadata": {
    "collapsed": true
   },
   "outputs": [],
   "source": [
    "def randomize(data, labels):\n",
    "  permutation = np.random.permutation(labels.shape[0])\n",
    "  shuffled_dataset = data[permutation,:,:]\n",
    "  shuffled_labels = labels[permutation]\n",
    "  return shuffled_dataset, shuffled_labels\n",
    "trainingdataset, train_labels = randomize(trainingdataset, train_labels)\n",
    "testingdataset, test_labels = randomize(testingdataset, test_labels)\n",
    "valid_dataset, valid_labels = randomize(valid_dataset, valid_labels)"
   ]
  },
  {
   "cell_type": "code",
   "execution_count": 10,
   "metadata": {
    "collapsed": true
   },
   "outputs": [],
   "source": [
    "pickle_file = os.path.join(os.getcwd(), 'Data.pickle')\n",
    "\n",
    "try:\n",
    "  f = open(pickle_file, 'wb')\n",
    "  save = {\n",
    "    'trainingdataset': trainingdataset,\n",
    "    'train_labels': train_labels,\n",
    "    'valid_dataset': valid_dataset,\n",
    "    'valid_labels': valid_labels,\n",
    "    'testingdataset': testingdataset,\n",
    "    'test_labels': test_labels,\n",
    "    }\n",
    "  pickle.dump(save, f, pickle.HIGHEST_PROTOCOL)\n",
    "  f.close()\n",
    "except Exception as e:\n",
    "  print('Unable to save data to', pickle_file, ':', e)\n",
    "  raise"
   ]
  },
  {
   "cell_type": "code",
   "execution_count": 11,
   "metadata": {},
   "outputs": [
    {
     "name": "stdout",
     "output_type": "stream",
     "text": [
      "Compressed pickle size: 184946506\n"
     ]
    }
   ],
   "source": [
    "statinfo = os.stat(pickle_file)\n",
    "print('Compressed pickle size:', statinfo.st_size)"
   ]
  },
  {
   "cell_type": "code",
   "execution_count": 15,
   "metadata": {},
   "outputs": [
    {
     "name": "stdout",
     "output_type": "stream",
     "text": [
      "(50000, 784)\n"
     ]
    }
   ],
   "source": [
    "print(trainingdataset.shape)"
   ]
  },
  {
   "cell_type": "markdown",
   "metadata": {},
   "source": [
    "## Importing the Logistic Regression classifier"
   ]
  },
  {
   "cell_type": "code",
   "execution_count": 13,
   "metadata": {},
   "outputs": [
    {
     "name": "stdout",
     "output_type": "stream",
     "text": [
      "(50000, 784)\n",
      "(50000,)\n",
      "Training start time 1522283931.8172934\n",
      "Training End Time time 1522285372.5232012\n",
      "Time taken 1440.7229189872742 seconds\n",
      "Prediction start time 1522285372.5402124\n",
      "Train_Accuracy 0.92808\n",
      "Prediction time taken 0.6093595027923584 seconds\n"
     ]
    }
   ],
   "source": [
    "import time as t\n",
    "clf='LogisticRegressionCLassifier.pickle'\n",
    "if clf in os.listdir(os.getcwd()):\n",
    "    print('Classifier Already Present')\n",
    "    f=open('LogisticRegressionCLassifier.pickle','rb')\n",
    "    Clf=pickle.load(f)\n",
    "    print(Clf)\n",
    "else:    \n",
    "    clf = LogisticRegressionCV()\n",
    "    trainingdataset=trainingdataset.reshape((trainingdataset.shape[0],trainingdataset.shape[1]*trainingdataset.shape[2]))\n",
    "    print(trainingdataset.shape)\n",
    "    print(train_labels.shape)\n",
    "    A=t.time()\n",
    "    print('Training start time',t.time())\n",
    "    clf.fit(trainingdataset,train_labels)\n",
    "    print('Training End Time time',t.time())\n",
    "    print('Time taken',t.time()-A,'seconds')\n",
    "    A=t.time()\n",
    "    print('Prediction start time',t.time())\n",
    "    print('Train_Accuracy',accuracy_score(train_labels,clf.predict(trainingdataset)))\n",
    "    print('Prediction time taken',t.time()-A,'seconds')\n",
    "    f=open('LogisticRegressionCLassifier.pickle','wb')\n",
    "    pickle.dump(clf,f,pickle.HIGHEST_PROTOCOL)\n",
    "    f.close()"
   ]
  },
  {
   "cell_type": "markdown",
   "metadata": {},
   "source": [
    "## The model took less time to get trained when the data is pickled. The training accuracy achieved is 92.81%"
   ]
  },
  {
   "cell_type": "code",
   "execution_count": 14,
   "metadata": {},
   "outputs": [
    {
     "name": "stdout",
     "output_type": "stream",
     "text": [
      "C:\\Users\\Radhika\\Desktop\\NEU_Sem2\\Big Data\\Project_big_data\n",
      "(900,)\n",
      "(900, 28, 28)\n",
      "Test set accuracy 0.942222222222\n",
      "Testing time 0.015625715255737305\n"
     ]
    }
   ],
   "source": [
    "import pickle\n",
    "import os\n",
    "from sklearn.metrics import accuracy_score\n",
    "print(os.getcwd())\n",
    "f=open('LogisticRegressionCLassifier.pickle','rb')\n",
    "Clf=pickle.load(f)\n",
    "Data=open('Data.pickle','rb')\n",
    "testingdata=pickle.load(Data)['testingdataset']\n",
    "Data.close()\n",
    "Data=open('Data.pickle','rb')\n",
    "test_labels=pickle.load(Data)['test_labels']\n",
    "print(test_labels.shape)\n",
    "print(testingdata.shape)\n",
    "testingdata=testingdata.reshape((testingdata.shape[0],testingdata.shape[1]*testingdata.shape[2]))\n",
    "A=t.time()\n",
    "print('Test set accuracy',accuracy_score(test_labels,Clf.predict(testingdata)))\n",
    "print('Testing time',t.time()-A)\n",
    "Data.close()"
   ]
  },
  {
   "cell_type": "markdown",
   "metadata": {},
   "source": [
    "## After passing the test data into the model, we achieved a testing accuracy of 94.22%"
   ]
  },
  {
   "cell_type": "markdown",
   "metadata": {
    "collapsed": true
   },
   "source": [
    "<a rel=\"license\" href=\"http://creativecommons.org/licenses/by/3.0/us/\"><img alt=\"Creative Commons License\" style=\"border-width:0\" src=\"https://i.creativecommons.org/l/by/3.0/us/88x31.png\" /></a><br>The text in the document by RADHIKA GATHIA and SHWETA TATIYA is licensed under <a rel=\"license\" href=\"http://creativecommons.org/licenses/by/3.0/us/\">Creative Commons Attribution 3.0 United States License</a>.<br><br>\n",
    "\n",
    "\n",
    "The code in the document by RADHIKA GATHIA and SHWETA TATIYA is licensed under the MIT License https://opensource.org/licenses/MIT"
   ]
  },
  {
   "cell_type": "markdown",
   "metadata": {},
   "source": [
    "## References"
   ]
  },
  {
   "cell_type": "code",
   "execution_count": null,
   "metadata": {},
   "outputs": [],
   "source": [
    "# Dataset \n",
    "#http://yann.lecun.com/exdb/mnist/\n",
    "\n",
    "# References\n",
    "\n",
    "#https://www.youtube.com/watch?v=aZsZrkIgan0\n",
    "#https://www.youtube.com/watch?v=iQdWX1327XQ\n",
    "#https://www.statisticssolutions.com/what-is-logistic-regression/\n",
    "#https://en.wikipedia.org/wiki/Logistic_regression\n",
    "#https://pythontips.com/2013/08/02/what-is-pickle-in-python/\n",
    "#https://stackoverflow.com/questions/43229034/randomly-shuffle-data-and-labels-from-different-files-in-the-same-order?utm_medium=organic&utm_source=google_rich_qa&utm_campaign=google_rich_qa\n"
   ]
  }
 ],
 "metadata": {
  "kernelspec": {
   "display_name": "Python 3",
   "language": "python",
   "name": "python3"
  },
  "language_info": {
   "codemirror_mode": {
    "name": "ipython",
    "version": 3
   },
   "file_extension": ".py",
   "mimetype": "text/x-python",
   "name": "python",
   "nbconvert_exporter": "python",
   "pygments_lexer": "ipython3",
   "version": "3.6.3"
  }
 },
 "nbformat": 4,
 "nbformat_minor": 2
}
